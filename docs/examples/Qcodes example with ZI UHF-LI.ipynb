{
 "cells": [
  {
   "cell_type": "code",
   "execution_count": 15,
   "metadata": {
    "collapsed": false,
    "scrolled": true
   },
   "outputs": [],
   "source": [
    "import time\n",
    "import logging\n",
    "import numpy as np\n",
    "import matplotlib.pyplot as plt\n",
    "plt.ion()\n",
    "\n",
    "import qcodes as qc\n",
    "from qcodes.instrument_drivers.ZI.ZIUHFLI import ZIUHFLI\n",
    "\n",
    "log = logging.getLogger(__name__)\n",
    "log.setLevel(logging.INFO)"
   ]
  },
  {
   "cell_type": "markdown",
   "metadata": {},
   "source": [
    "# Prerequisites\n",
    "\n",
    "It is necessary to download and install the ZI Lab One software. Additionally, both the data server and the web server must run, and a connection to the instrument must be instantiated (this can be done via the web interface)."
   ]
  },
  {
   "cell_type": "code",
   "execution_count": 16,
   "metadata": {
    "collapsed": false,
    "scrolled": false
   },
   "outputs": [
    {
     "name": "stderr",
     "output_type": "stream",
     "text": [
      "WARNING:root:get_parser is set, but will not be used (name demod1_signalin)\n",
      "WARNING:root:get_parser is set, but will not be used (name demod1_sinc)\n",
      "WARNING:root:get_parser is set, but will not be used (name demod1_streaming)\n",
      "WARNING:root:get_parser is set, but will not be used (name demod1_trigger)\n",
      "WARNING:root:get_parser is set, but will not be used (name demod2_signalin)\n",
      "WARNING:root:get_parser is set, but will not be used (name demod2_sinc)\n",
      "WARNING:root:get_parser is set, but will not be used (name demod2_streaming)\n",
      "WARNING:root:get_parser is set, but will not be used (name demod2_trigger)\n",
      "WARNING:root:get_parser is set, but will not be used (name demod3_signalin)\n",
      "WARNING:root:get_parser is set, but will not be used (name demod3_sinc)\n",
      "WARNING:root:get_parser is set, but will not be used (name demod3_streaming)\n",
      "WARNING:root:get_parser is set, but will not be used (name demod3_trigger)\n",
      "WARNING:root:get_parser is set, but will not be used (name demod4_signalin)\n",
      "WARNING:root:get_parser is set, but will not be used (name demod4_sinc)\n",
      "WARNING:root:get_parser is set, but will not be used (name demod4_streaming)\n",
      "WARNING:root:get_parser is set, but will not be used (name demod4_trigger)\n",
      "WARNING:root:get_parser is set, but will not be used (name demod5_signalin)\n",
      "WARNING:root:get_parser is set, but will not be used (name demod5_sinc)\n",
      "WARNING:root:get_parser is set, but will not be used (name demod5_streaming)\n",
      "WARNING:root:get_parser is set, but will not be used (name demod5_trigger)\n",
      "WARNING:root:get_parser is set, but will not be used (name demod6_signalin)\n",
      "WARNING:root:get_parser is set, but will not be used (name demod6_sinc)\n",
      "WARNING:root:get_parser is set, but will not be used (name demod6_streaming)\n",
      "WARNING:root:get_parser is set, but will not be used (name demod6_trigger)\n",
      "WARNING:root:get_parser is set, but will not be used (name demod7_signalin)\n",
      "WARNING:root:get_parser is set, but will not be used (name demod7_sinc)\n",
      "WARNING:root:get_parser is set, but will not be used (name demod7_streaming)\n",
      "WARNING:root:get_parser is set, but will not be used (name demod7_trigger)\n",
      "WARNING:root:get_parser is set, but will not be used (name demod8_signalin)\n",
      "WARNING:root:get_parser is set, but will not be used (name demod8_sinc)\n",
      "WARNING:root:get_parser is set, but will not be used (name demod8_streaming)\n",
      "WARNING:root:get_parser is set, but will not be used (name demod8_trigger)\n",
      "WARNING:root:get_parser is set, but will not be used (name sweeper_BWmode)\n",
      "WARNING:root:get_parser is set, but will not be used (name sweeper_param)\n",
      "WARNING:root:get_parser is set, but will not be used (name sweeper_units)\n",
      "WARNING:root:get_parser is set, but will not be used (name sweeper_mode)\n",
      "WARNING:root:get_parser is set, but will not be used (name sweeper_xmapping)\n",
      "WARNING:root:get_parser is set, but will not be used (name signal_input1_AC)\n",
      "WARNING:root:get_parser is set, but will not be used (name signal_input1_impedance)\n",
      "WARNING:root:get_parser is set, but will not be used (name signal_input1_diff)\n",
      "WARNING:root:get_parser is set, but will not be used (name signal_input2_AC)\n",
      "WARNING:root:get_parser is set, but will not be used (name signal_input2_impedance)\n",
      "WARNING:root:get_parser is set, but will not be used (name signal_input2_diff)\n"
     ]
    }
   ],
   "source": [
    "# Instantiate the QCoDeS instrument\n",
    "zi = ZIUHFLI('ZIUHFLI', 'dev2189')"
   ]
  },
  {
   "cell_type": "markdown",
   "metadata": {},
   "source": [
    "# Basic Usage of the ZI UHF-LI\n",
    "\n",
    "Most of the \"front panel\" (i.e. the Web UI) `Lock-In` and `signal input` settings are available as parameters."
   ]
  },
  {
   "cell_type": "code",
   "execution_count": 17,
   "metadata": {
    "collapsed": false
   },
   "outputs": [
    {
     "name": "stdout",
     "output_type": "stream",
     "text": [
      "Oscillator 2 has frequency: 1050 Hz\n"
     ]
    }
   ],
   "source": [
    "zi.oscillator1_freq.set(752.1e3)\n",
    "print('Oscillator 2 has frequency: {:.0f} Hz'.format(zi.oscillator2_freq.get()))\n",
    "zi.signal_input1_range(1)\n",
    "zi.signal_input1_scaling(1)"
   ]
  },
  {
   "cell_type": "markdown",
   "metadata": {},
   "source": [
    "Each demodulator has several settings..."
   ]
  },
  {
   "cell_type": "code",
   "execution_count": 18,
   "metadata": {
    "collapsed": false
   },
   "outputs": [
    {
     "name": "stdout",
     "output_type": "stream",
     "text": [
      "Available demodulator settings:\n",
      "\n",
      "  demod1_streaming, Data streaming ()\n",
      "  demod1_order, Filter order ()\n",
      "  demod1_timeconstant, Filter time constant (s)\n",
      "  demod1_phaseshift, Phase shift (degrees)\n",
      "  demod1_samplerate, Sample rate (Sa/s)\n",
      "  demod1_sinc, Sinc filter ()\n",
      "  demod1_signalin, Signal input ()\n",
      "  demod1_trigger, Trigger ()\n",
      "  demod1_harmonic, Reference frequency multiplication factor ()\n"
     ]
    }
   ],
   "source": [
    "print('Available demodulator settings:\\n')\n",
    "for param in [p for p in zi.parameters if 'demod1' in p]:\n",
    "    print('  {}, {} ({})'.format(param, zi.parameters[param].label, zi.parameters[param].unit))"
   ]
  },
  {
   "cell_type": "markdown",
   "metadata": {},
   "source": [
    "# Using the sweeper\n",
    "\n",
    "The sweeper settings are configured via a bunch of parameters, all named `sweeper_XXX`.\n",
    "This configures the x-axis of the sweep as well as the sweep acquisition settings. To learn more about what a certain parameter does, it is sometimes helpful to print its `__doc__` attribute.\n",
    "\n",
    "Which signals are **returned** by the sweeper is controlled by adding (removing) signals to (from) the sweep.\n",
    "\n",
    "The sweep settings can be displayed with the `print_sweeper_settings` command.\n",
    "\n",
    "Before the sweep can be performed, it must be built. \n",
    "This is done with the Sweep parameter, which is the parameter holding the sweep data.\n",
    "Note that building the sweep may change some of the time constants, and in particular change the sweep time. In case of doubt, re-run `print_sweeper_settings`."
   ]
  },
  {
   "cell_type": "code",
   "execution_count": 19,
   "metadata": {
    "collapsed": false
   },
   "outputs": [],
   "source": [
    "# Set up a sweep sweeping an internal oscillator frequency from 1 MHz to 5 MHz\n",
    "# We want the sweeper to sweep linearly over 200 points\n",
    "zi.sweeper_param('Osc 1 Frequency')\n",
    "zi.sweeper_xmapping('lin')\n",
    "zi.sweeper_start(1e6)\n",
    "zi.sweeper_stop(5e6)\n",
    "zi.sweeper_samplecount(200)\n",
    "zi.sweeper_BWmode('fixed')\n",
    "zi.sweeper_BW(250)\n",
    "zi.sweeper_order(4)"
   ]
  },
  {
   "cell_type": "code",
   "execution_count": 20,
   "metadata": {
    "collapsed": false
   },
   "outputs": [
    {
     "name": "stdout",
     "output_type": "stream",
     "text": [
      "\n",
      "                                     For each sweep point, the demodulator\n",
      "                                     filter bandwidth (time constant) may\n",
      "                                     be either set automatically, be the\n",
      "                                     current demodulator bandwidth or be\n",
      "                                     a fixed number; the sweeper_BW\n",
      "                                     parameter.\n",
      "                                     \r\n",
      "\r\n",
      "Parameter class:\r\n",
      "\r\n",
      "* `name` sweeper_BWmode\r\n",
      "* `label` Sweeper bandwidth control mode\r\n",
      "* `unit` \r\n",
      "* `vals` <Enum: {'current', 'auto', 'fixed'}>\n"
     ]
    }
   ],
   "source": [
    "# I wonder what the sweeper BWmode does...\n",
    "print(zi.sweeper_BWmode.__doc__)"
   ]
  },
  {
   "cell_type": "code",
   "execution_count": 21,
   "metadata": {
    "collapsed": true
   },
   "outputs": [],
   "source": [
    "# Add three signals to the sweep, all measured on demodulator 1\n",
    "zi.add_signal_to_sweeper(1, 'Xrms')\n",
    "zi.add_signal_to_sweeper(1, 'Yrms')\n",
    "zi.add_signal_to_sweeper(1, 'Rrms')"
   ]
  },
  {
   "cell_type": "code",
   "execution_count": 25,
   "metadata": {
    "collapsed": false
   },
   "outputs": [],
   "source": [
    "# Make sure that demodulator 1 is measuring what and as it should\n",
    "zi.demod1_trigger('Continuous')\n",
    "zi.demod1_signalin('Sig In 1')"
   ]
  },
  {
   "cell_type": "code",
   "execution_count": 26,
   "metadata": {
    "collapsed": false
   },
   "outputs": [
    {
     "name": "stdout",
     "output_type": "stream",
     "text": [
      "ACQUISITION\n",
      "    Sweeper bandwidth control mode: fixed ()\n",
      "    Fixed bandwidth sweeper bandwidth (NEP): 50.0 ()\n",
      "    Sweeper filter order: 1 ()\n",
      "    Minimal no. of samples to average at each sweep point: 25 ()\n",
      "    Minimal averaging time: 0.1 (s)\n",
      "    Minimal settling time for the sweeper: 1e-06 (s)\n",
      "    Sweep filter settling time: 4.605170185988091 (dim. less.)\n",
      "HORISONTAL\n",
      "    Start value of the sweep: 1000000.0\n",
      "    Stop value of the sweep: 10000000.0\n",
      "    Units of sweep x-axis: Hz\n",
      "    Length of the sweep (pts): 25\n",
      "    Parameter to sweep (sweep x-axis): Osc 1 Frequency\n",
      "    Sweep mode: Sequential\n",
      "    Sweep timeout: 20\n",
      "VERTICAL\n",
      "    Signal 1: Demodulator 1: Xrms\n",
      "    Signal 2: Demodulator 1: Yrms\n",
      "    Signal 3: Demodulator 1: Rrms\n",
      "DEMODULATORS\n",
      "    Demodulator 1: Filter time constant: 0.000266 (s)\n",
      "    Demodulator 1: Filter order: 4.000000 ()\n",
      "    Demodulator 1: Sample rate: 1716.613770 (Sa/s)\n",
      "META\n",
      "    Expected sweep time: 0.9 (s)\n",
      "    Sweep timeout: 20 (s)\n",
      "    Sweep built and ready to execute: False\n"
     ]
    }
   ],
   "source": [
    "# I wonder what kind of sweep we have made now...\n",
    "zi.print_sweeper_settings()"
   ]
  },
  {
   "cell_type": "code",
   "execution_count": 27,
   "metadata": {
    "collapsed": false
   },
   "outputs": [
    {
     "name": "stdout",
     "output_type": "stream",
     "text": [
      "ACQUISITION\n",
      "    Sweeper bandwidth control mode: fixed ()\n",
      "    Fixed bandwidth sweeper bandwidth (NEP): 78.12499999999996 ()\n",
      "    Sweeper filter order: 4 ()\n",
      "    Minimal no. of samples to average at each sweep point: 25 ()\n",
      "    Minimal averaging time: 0.1 (s)\n",
      "    Minimal settling time for the sweeper: 1e-06 (s)\n",
      "    Sweep filter settling time: 9.998049677807453 (dim. less.)\n",
      "HORISONTAL\n",
      "    Start value of the sweep: 1000000.0\n",
      "    Stop value of the sweep: 5000000.0\n",
      "    Units of sweep x-axis: Hz\n",
      "    Length of the sweep (pts): 200\n",
      "    Parameter to sweep (sweep x-axis): Osc 1 Frequency\n",
      "    Sweep mode: Sequential\n",
      "    Sweep timeout: 20\n",
      "VERTICAL\n",
      "    Signal 1: Demodulator 1: Xrms\n",
      "    Signal 2: Demodulator 1: Yrms\n",
      "    Signal 3: Demodulator 1: Rrms\n",
      "DEMODULATORS\n",
      "    Demodulator 1: Filter time constant: 0.000266 (s)\n",
      "    Demodulator 1: Filter order: 4.000000 ()\n",
      "    Demodulator 1: Sample rate: 1716.613770 (Sa/s)\n",
      "META\n",
      "    Expected sweep time: 4.9 (s)\n",
      "    Sweep timeout: 20 (s)\n",
      "    Sweep built and ready to execute: True\n"
     ]
    }
   ],
   "source": [
    "# Gee, that looks good! Note the last line, the sweep is NOT ready to execute.\n",
    "zi.Sweep.build_sweep()\n",
    "# Now it is!\n",
    "zi.print_sweeper_settings()"
   ]
  },
  {
   "cell_type": "code",
   "execution_count": 28,
   "metadata": {
    "collapsed": false
   },
   "outputs": [],
   "source": [
    "# We can now execute the sweeper by simply invoking Sweep.get\n",
    "# This returns a tuple with the signals we asked for\n",
    "(X, Y, R) = zi.Sweep.get()"
   ]
  },
  {
   "cell_type": "code",
   "execution_count": null,
   "metadata": {
    "collapsed": true
   },
   "outputs": [],
   "source": [
    "# This we may manually plot. "
   ]
  },
  {
   "cell_type": "code",
   "execution_count": 33,
   "metadata": {
    "collapsed": false
   },
   "outputs": [
    {
     "data": {
      "text/plain": [
       "[<matplotlib.lines.Line2D at 0xa6407b8>]"
      ]
     },
     "execution_count": 33,
     "metadata": {},
     "output_type": "execute_result"
    },
    {
     "data": {
      "image/png": "[encoded data removed]",
      "text/plain": [
       "<matplotlib.figure.Figure at 0xa64f860>"
      ]
     },
     "metadata": {},
     "output_type": "display_data"
    }
   ],
   "source": [
    "plt.figure()\n",
    "plt.plot(X, lw=2, color=(0.5, 0, 0.3))\n",
    "plt.plot(Y, lw=2, color=(0.5, 0.3, 0))\n",
    "plt.plot(R, lw=2, color=(0.3, 0, 0.5))"
   ]
  },
  {
   "cell_type": "code",
   "execution_count": 36,
   "metadata": {
    "collapsed": false
   },
   "outputs": [],
   "source": [
    "zi.close()"
   ]
  },
  {
   "cell_type": "code",
   "execution_count": null,
   "metadata": {
    "collapsed": true
   },
   "outputs": [],
   "source": []
  }
 ],
 "metadata": {
  "anaconda-cloud": {},
  "kernelspec": {
   "display_name": "Python 3",
   "language": "python",
   "name": "python3"
  },
  "language_info": {
   "codemirror_mode": {
    "name": "ipython",
    "version": 3
   },
   "file_extension": ".py",
   "mimetype": "text/x-python",
   "name": "python",
   "nbconvert_exporter": "python",
   "pygments_lexer": "ipython3",
   "version": "3.5.2"
  }
 },
 "nbformat": 4,
 "nbformat_minor": 1
}
